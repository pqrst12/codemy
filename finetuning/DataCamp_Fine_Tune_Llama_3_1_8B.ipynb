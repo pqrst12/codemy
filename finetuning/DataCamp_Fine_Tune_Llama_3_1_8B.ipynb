{
  "cells": [
    {
      "cell_type": "markdown",
      "metadata": {
        "id": "aTaDCGTe78bK"
      },
      "source": [
        "# DataCamp - Fine-tune Llama 3.1 8B\n",
        "> 🗣️ [Large Language Model Course](https://github.com/mlabonne/llm-course)\n",
        "\n",
        "❤️ Created by [@maximelabonne](https://twitter.com/maximelabonne).\n",
        "\n",
        "Add `HF_TOKEN` in the Secrets tab to store your [Hugging Face access token](https://huggingface.co/settings/tokens) in Colab.\n",
        "\n",
        "![](https://i.imgur.com/VyPwxqa.png)\n",
        "![](https://i.imgur.com/LXdQpUh.png)\n",
        "![](https://i.imgur.com/urRLLyC.png)"
      ]
    },
    {
      "cell_type": "code",
      "execution_count": null,
      "metadata": {
        "id": "PoPKQjga6obN"
      },
      "outputs": [],
      "source": [
        "!pip install -qqq \"unsloth[colab-new] @ git+https://github.com/unslothai/unsloth.git\" --progress-bar off\n",
        "from torch import __version__; from packaging.version import Version as V\n",
        "xformers = \"xformers==0.0.27\" if V(__version__) < V(\"2.4.0\") else \"xformers\"\n",
        "!pip install -qqq --no-deps {xformers} trl peft accelerate bitsandbytes triton --progress-bar off\n",
        "\n",
        "import torch\n",
        "from trl import SFTTrainer\n",
        "from datasets import load_dataset\n",
        "from transformers import TrainingArguments, TextStreamer\n",
        "from unsloth.chat_templates import get_chat_template\n",
        "from unsloth import FastLanguageModel, is_bfloat16_supported"
      ]
    },
    {
      "cell_type": "markdown",
      "metadata": {
        "id": "matKaF-f-GiU"
      },
      "source": [
        "## 1. Load model for PEFT\n",
        "\n",
        "![](https://i.imgur.com/2CgewGd.png)\n",
        "![](https://i.imgur.com/Y8qsNvf.png)\n",
        "\n",
        "We load the model using parameter-efficient techniques (PEFT) to reduce VRAM usage and speed up training."
      ]
    },
    {
      "cell_type": "code",
      "execution_count": null,
      "metadata": {
        "id": "zGX9wG7Lhc-z"
      },
      "outputs": [],
      "source": []
    },
    {
      "cell_type": "markdown",
      "source": [
        "## 2. Prepare data and tokenizer\n",
        "\n",
        "![](https://i.imgur.com/cIGv8Cb.png)\n",
        "![](https://i.imgur.com/FFxWTbK.png)\n",
        "![](https://i.imgur.com/a3navcZ.png)\n",
        "\n",
        "We prepare our instruction dataset with the right chat template and tokenizer."
      ],
      "metadata": {
        "id": "hjDpwfjJ3RAL"
      }
    },
    {
      "cell_type": "code",
      "execution_count": null,
      "metadata": {
        "id": "sqGnvaT8is-R"
      },
      "outputs": [],
      "source": []
    },
    {
      "cell_type": "markdown",
      "source": [
        "## 3. Training\n",
        "\n",
        "![](https://i.imgur.com/D8sDuhK.png)\n",
        "![](https://i.imgur.com/YeGVUup.png)\n",
        "\n",
        "We specify the hyperparameters and train our model using Unsloth."
      ],
      "metadata": {
        "id": "zdfjufQd3XMi"
      }
    },
    {
      "cell_type": "code",
      "execution_count": null,
      "metadata": {
        "id": "gcPAQihcjcfl"
      },
      "outputs": [],
      "source": []
    },
    {
      "cell_type": "markdown",
      "source": [
        "## 4. Inference\n",
        "\n",
        "We test the trained model with a toy example to check that there's no obvious error."
      ],
      "metadata": {
        "id": "CI_U9FHZ3ZLO"
      }
    },
    {
      "cell_type": "code",
      "execution_count": null,
      "metadata": {
        "id": "5JXdjsLqkvZY"
      },
      "outputs": [],
      "source": []
    },
    {
      "cell_type": "markdown",
      "source": [
        "## 5. Save trained model\n",
        "\n",
        "We save and export the trained model in safetensors and GGUF formats."
      ],
      "metadata": {
        "id": "HunPZjPp3aWe"
      }
    },
    {
      "cell_type": "code",
      "execution_count": null,
      "metadata": {
        "id": "ORa-rPvGmT9p"
      },
      "outputs": [],
      "source": []
    },
    {
      "cell_type": "code",
      "execution_count": null,
      "metadata": {
        "id": "fzcUOyksmgWH"
      },
      "outputs": [],
      "source": []
    },
    {
      "cell_type": "markdown",
      "source": [
        "## 6. Next steps\n",
        "\n",
        "![](https://i.imgur.com/dMLEDKH.png)\n",
        "![](https://i.imgur.com/jaOowAJ.png)\n",
        "![](https://i.imgur.com/DlTKPHj.png)\n",
        "![](https://i.imgur.com/EMBelvN.png)\n",
        "![](https://i.imgur.com/QyUp4tA.png)"
      ],
      "metadata": {
        "id": "NV3uadfUWdSL"
      }
    }
  ],
  "metadata": {
    "accelerator": "GPU",
    "colab": {
      "gpuType": "T4",
      "provenance": []
    },
    "kernelspec": {
      "display_name": "Python 3",
      "name": "python3"
    },
    "language_info": {
      "name": "python"
    }
  },
  "nbformat": 4,
  "nbformat_minor": 0
}